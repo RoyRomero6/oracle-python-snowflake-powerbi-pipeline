{
 "cells": [
  {
   "cell_type": "code",
   "execution_count": 1,
   "metadata": {},
   "outputs": [
    {
     "name": "stdout",
     "output_type": "stream",
     "text": [
      "   ID_EMPLEADO  NOMBRE   APELLIDO GENERO FECHA_NACIMIENTO FECHA_CONTRATACION  \\\n",
      "0            1  Carlos      López      M       1988-04-12         2024-01-15   \n",
      "1            2   Lucía      Pérez      F       1990-06-22         2024-02-01   \n",
      "2            3   David      Gómez      M       1985-09-30         2024-03-05   \n",
      "3            4     Ana   Martínez      F       1992-07-10         2024-04-20   \n",
      "4            5    José  Rodríguez      M       1981-11-15         2024-05-01   \n",
      "\n",
      "  NIVEL_EDUCATIVO ESTADO_CIVIL    TIPO_CONTRATO  \n",
      "0   Universitario       Casado  Tiempo completo  \n",
      "1        Maestría      Soltera    Contrato fijo  \n",
      "2         Técnico   Divorciado     Medio tiempo  \n",
      "3   Universitario       Casada  Tiempo completo  \n",
      "4      Secundaria       Casado  Tiempo completo  \n"
     ]
    },
    {
     "name": "stderr",
     "output_type": "stream",
     "text": [
      "C:\\Users\\USER\\AppData\\Local\\Temp\\ipykernel_13408\\889198516.py:6: UserWarning: pandas only supports SQLAlchemy connectable (engine/connection) or database string URI or sqlite3 DBAPI2 connection. Other DBAPI2 objects are not tested. Please consider using SQLAlchemy.\n",
      "  df = pd.read_sql(sql, con=connection)\n"
     ]
    }
   ],
   "source": [
    "import pandas as pd\n",
    "import oracledb as ora  \n",
    "from config import *\n",
    "with ora.connect(user= USER, password= PASSWORD, dsn= DSN) as connection:\n",
    "    sql = \"SELECT * FROM DIM_EMPLEADO\"\n",
    "    df = pd.read_sql(sql, con=connection)\n",
    "    print(df.head())"
   ]
  },
  {
   "cell_type": "code",
   "execution_count": 2,
   "metadata": {},
   "outputs": [
    {
     "data": {
      "text/plain": [
       "ID_EMPLEADO           0\n",
       "NOMBRE                0\n",
       "APELLIDO              0\n",
       "GENERO                0\n",
       "FECHA_NACIMIENTO      0\n",
       "FECHA_CONTRATACION    0\n",
       "NIVEL_EDUCATIVO       0\n",
       "ESTADO_CIVIL          0\n",
       "TIPO_CONTRATO         0\n",
       "dtype: int64"
      ]
     },
     "execution_count": 2,
     "metadata": {},
     "output_type": "execute_result"
    }
   ],
   "source": [
    "#No hay valores nulos\n",
    "df.isnull().sum()"
   ]
  },
  {
   "cell_type": "code",
   "execution_count": 3,
   "metadata": {},
   "outputs": [
    {
     "data": {
      "text/plain": [
       "array(['Tiempo completo', 'Contrato fijo', 'Medio tiempo', 'Indefinido',\n",
       "       'Temporal'], dtype=object)"
      ]
     },
     "execution_count": 3,
     "metadata": {},
     "output_type": "execute_result"
    }
   ],
   "source": [
    "#Quiero manejar solo tres tipos de contratos(Fijo,indefinido,temporal)\n",
    "df[\"TIPO_CONTRATO\"].unique()"
   ]
  },
  {
   "cell_type": "code",
   "execution_count": 4,
   "metadata": {},
   "outputs": [
    {
     "data": {
      "text/html": [
       "<div>\n",
       "<style scoped>\n",
       "    .dataframe tbody tr th:only-of-type {\n",
       "        vertical-align: middle;\n",
       "    }\n",
       "\n",
       "    .dataframe tbody tr th {\n",
       "        vertical-align: top;\n",
       "    }\n",
       "\n",
       "    .dataframe thead th {\n",
       "        text-align: right;\n",
       "    }\n",
       "</style>\n",
       "<table border=\"1\" class=\"dataframe\">\n",
       "  <thead>\n",
       "    <tr style=\"text-align: right;\">\n",
       "      <th></th>\n",
       "      <th>ID_EMPLEADO</th>\n",
       "      <th>NOMBRE</th>\n",
       "      <th>APELLIDO</th>\n",
       "      <th>GENERO</th>\n",
       "      <th>FECHA_NACIMIENTO</th>\n",
       "      <th>FECHA_CONTRATACION</th>\n",
       "      <th>NIVEL_EDUCATIVO</th>\n",
       "      <th>ESTADO_CIVIL</th>\n",
       "      <th>TIPO_CONTRATO</th>\n",
       "    </tr>\n",
       "  </thead>\n",
       "  <tbody>\n",
       "    <tr>\n",
       "      <th>0</th>\n",
       "      <td>1</td>\n",
       "      <td>Carlos</td>\n",
       "      <td>López</td>\n",
       "      <td>M</td>\n",
       "      <td>1988-04-12</td>\n",
       "      <td>2024-01-15 00:00:00</td>\n",
       "      <td>Universitario</td>\n",
       "      <td>Casado</td>\n",
       "      <td>Fijo</td>\n",
       "    </tr>\n",
       "    <tr>\n",
       "      <th>1</th>\n",
       "      <td>2</td>\n",
       "      <td>Lucía</td>\n",
       "      <td>Pérez</td>\n",
       "      <td>F</td>\n",
       "      <td>1990-06-22</td>\n",
       "      <td>2024-02-01 00:00:00</td>\n",
       "      <td>Maestría</td>\n",
       "      <td>Soltera</td>\n",
       "      <td>Fijo</td>\n",
       "    </tr>\n",
       "    <tr>\n",
       "      <th>2</th>\n",
       "      <td>3</td>\n",
       "      <td>David</td>\n",
       "      <td>Gómez</td>\n",
       "      <td>M</td>\n",
       "      <td>1985-09-30</td>\n",
       "      <td>2024-03-05 00:00:00</td>\n",
       "      <td>Técnico</td>\n",
       "      <td>Divorciado</td>\n",
       "      <td>Fijo</td>\n",
       "    </tr>\n",
       "    <tr>\n",
       "      <th>3</th>\n",
       "      <td>4</td>\n",
       "      <td>Ana</td>\n",
       "      <td>Martínez</td>\n",
       "      <td>F</td>\n",
       "      <td>1992-07-10</td>\n",
       "      <td>2024-04-20 00:00:00</td>\n",
       "      <td>Universitario</td>\n",
       "      <td>Casada</td>\n",
       "      <td>Fijo</td>\n",
       "    </tr>\n",
       "    <tr>\n",
       "      <th>4</th>\n",
       "      <td>5</td>\n",
       "      <td>José</td>\n",
       "      <td>Rodríguez</td>\n",
       "      <td>M</td>\n",
       "      <td>1981-11-15</td>\n",
       "      <td>2024-05-01 00:00:00</td>\n",
       "      <td>Secundaria</td>\n",
       "      <td>Casado</td>\n",
       "      <td>Fijo</td>\n",
       "    </tr>\n",
       "    <tr>\n",
       "      <th>...</th>\n",
       "      <td>...</td>\n",
       "      <td>...</td>\n",
       "      <td>...</td>\n",
       "      <td>...</td>\n",
       "      <td>...</td>\n",
       "      <td>...</td>\n",
       "      <td>...</td>\n",
       "      <td>...</td>\n",
       "      <td>...</td>\n",
       "    </tr>\n",
       "    <tr>\n",
       "      <th>495</th>\n",
       "      <td>496</td>\n",
       "      <td>Camila</td>\n",
       "      <td>Martinez</td>\n",
       "      <td>F</td>\n",
       "      <td>1993-01-09</td>\n",
       "      <td>2025-07-10 17:31:54</td>\n",
       "      <td>Universitario</td>\n",
       "      <td>Soltero</td>\n",
       "      <td>Indefinido</td>\n",
       "    </tr>\n",
       "    <tr>\n",
       "      <th>496</th>\n",
       "      <td>497</td>\n",
       "      <td>Fernando</td>\n",
       "      <td>Garcia</td>\n",
       "      <td>M</td>\n",
       "      <td>1986-05-27</td>\n",
       "      <td>2025-07-10 17:31:54</td>\n",
       "      <td>Tecnologo</td>\n",
       "      <td>Casado</td>\n",
       "      <td>Temporal</td>\n",
       "    </tr>\n",
       "    <tr>\n",
       "      <th>497</th>\n",
       "      <td>498</td>\n",
       "      <td>Natalia</td>\n",
       "      <td>Pineda</td>\n",
       "      <td>F</td>\n",
       "      <td>1991-10-20</td>\n",
       "      <td>2025-07-10 17:31:54</td>\n",
       "      <td>Bachiller</td>\n",
       "      <td>Soltero</td>\n",
       "      <td>Indefinido</td>\n",
       "    </tr>\n",
       "    <tr>\n",
       "      <th>498</th>\n",
       "      <td>499</td>\n",
       "      <td>Julio</td>\n",
       "      <td>Moreno</td>\n",
       "      <td>M</td>\n",
       "      <td>1989-02-03</td>\n",
       "      <td>2025-07-10 17:31:54</td>\n",
       "      <td>Universitario</td>\n",
       "      <td>Casado</td>\n",
       "      <td>Indefinido</td>\n",
       "    </tr>\n",
       "    <tr>\n",
       "      <th>499</th>\n",
       "      <td>500</td>\n",
       "      <td>Melissa</td>\n",
       "      <td>Salinas</td>\n",
       "      <td>F</td>\n",
       "      <td>1994-08-26</td>\n",
       "      <td>2025-07-10 17:31:54</td>\n",
       "      <td>Tecnologo</td>\n",
       "      <td>Soltero</td>\n",
       "      <td>Temporal</td>\n",
       "    </tr>\n",
       "  </tbody>\n",
       "</table>\n",
       "<p>500 rows × 9 columns</p>\n",
       "</div>"
      ],
      "text/plain": [
       "     ID_EMPLEADO    NOMBRE   APELLIDO GENERO FECHA_NACIMIENTO  \\\n",
       "0              1    Carlos      López      M       1988-04-12   \n",
       "1              2     Lucía      Pérez      F       1990-06-22   \n",
       "2              3     David      Gómez      M       1985-09-30   \n",
       "3              4       Ana   Martínez      F       1992-07-10   \n",
       "4              5      José  Rodríguez      M       1981-11-15   \n",
       "..           ...       ...        ...    ...              ...   \n",
       "495          496    Camila   Martinez      F       1993-01-09   \n",
       "496          497  Fernando     Garcia      M       1986-05-27   \n",
       "497          498   Natalia     Pineda      F       1991-10-20   \n",
       "498          499     Julio     Moreno      M       1989-02-03   \n",
       "499          500   Melissa    Salinas      F       1994-08-26   \n",
       "\n",
       "     FECHA_CONTRATACION NIVEL_EDUCATIVO ESTADO_CIVIL TIPO_CONTRATO  \n",
       "0   2024-01-15 00:00:00   Universitario       Casado          Fijo  \n",
       "1   2024-02-01 00:00:00        Maestría      Soltera          Fijo  \n",
       "2   2024-03-05 00:00:00         Técnico   Divorciado          Fijo  \n",
       "3   2024-04-20 00:00:00   Universitario       Casada          Fijo  \n",
       "4   2024-05-01 00:00:00      Secundaria       Casado          Fijo  \n",
       "..                  ...             ...          ...           ...  \n",
       "495 2025-07-10 17:31:54   Universitario      Soltero    Indefinido  \n",
       "496 2025-07-10 17:31:54       Tecnologo       Casado      Temporal  \n",
       "497 2025-07-10 17:31:54       Bachiller      Soltero    Indefinido  \n",
       "498 2025-07-10 17:31:54   Universitario       Casado    Indefinido  \n",
       "499 2025-07-10 17:31:54       Tecnologo      Soltero      Temporal  \n",
       "\n",
       "[500 rows x 9 columns]"
      ]
     },
     "execution_count": 4,
     "metadata": {},
     "output_type": "execute_result"
    }
   ],
   "source": [
    "mapa_contratos = {\n",
    "    'Contrato fijo': 'Fijo',\n",
    "    'Indefinido': 'Indefinido',\n",
    "    'Temporal': 'Temporal',\n",
    "    'Tiempo completo': 'Fijo',      \n",
    "    'Medio tiempo': 'Fijo'          \n",
    "}\n",
    "\n",
    "# Reemplazar los valores\n",
    "df['TIPO_CONTRATO'] = df['TIPO_CONTRATO'].replace(mapa_contratos)\n",
    "df"
   ]
  },
  {
   "cell_type": "code",
   "execution_count": 5,
   "metadata": {},
   "outputs": [
    {
     "data": {
      "text/plain": [
       "array(['Fijo', 'Indefinido', 'Temporal'], dtype=object)"
      ]
     },
     "execution_count": 5,
     "metadata": {},
     "output_type": "execute_result"
    }
   ],
   "source": [
    "#Ya hay 3 valores dentro de la column\n",
    "df[\"TIPO_CONTRATO\"].unique()"
   ]
  },
  {
   "cell_type": "code",
   "execution_count": 6,
   "metadata": {},
   "outputs": [
    {
     "data": {
      "text/plain": [
       "array(['Casado', 'Soltera', 'Divorciado', 'Casada', 'Viudo', 'Divorciada',\n",
       "       'Soltero', 'Viuda'], dtype=object)"
      ]
     },
     "execution_count": 6,
     "metadata": {},
     "output_type": "execute_result"
    }
   ],
   "source": [
    "df[\"ESTADO_CIVIL\"].unique()"
   ]
  },
  {
   "cell_type": "code",
   "execution_count": 7,
   "metadata": {},
   "outputs": [
    {
     "data": {
      "text/html": [
       "<div>\n",
       "<style scoped>\n",
       "    .dataframe tbody tr th:only-of-type {\n",
       "        vertical-align: middle;\n",
       "    }\n",
       "\n",
       "    .dataframe tbody tr th {\n",
       "        vertical-align: top;\n",
       "    }\n",
       "\n",
       "    .dataframe thead th {\n",
       "        text-align: right;\n",
       "    }\n",
       "</style>\n",
       "<table border=\"1\" class=\"dataframe\">\n",
       "  <thead>\n",
       "    <tr style=\"text-align: right;\">\n",
       "      <th></th>\n",
       "      <th>ID_EMPLEADO</th>\n",
       "      <th>NOMBRE</th>\n",
       "      <th>APELLIDO</th>\n",
       "      <th>GENERO</th>\n",
       "      <th>FECHA_NACIMIENTO</th>\n",
       "      <th>FECHA_CONTRATACION</th>\n",
       "      <th>NIVEL_EDUCATIVO</th>\n",
       "      <th>ESTADO_CIVIL</th>\n",
       "      <th>TIPO_CONTRATO</th>\n",
       "    </tr>\n",
       "  </thead>\n",
       "  <tbody>\n",
       "    <tr>\n",
       "      <th>0</th>\n",
       "      <td>1</td>\n",
       "      <td>Carlos</td>\n",
       "      <td>López</td>\n",
       "      <td>M</td>\n",
       "      <td>1988-04-12</td>\n",
       "      <td>2024-01-15 00:00:00</td>\n",
       "      <td>Universitario</td>\n",
       "      <td>Casado(a)</td>\n",
       "      <td>Fijo</td>\n",
       "    </tr>\n",
       "    <tr>\n",
       "      <th>1</th>\n",
       "      <td>2</td>\n",
       "      <td>Lucía</td>\n",
       "      <td>Pérez</td>\n",
       "      <td>F</td>\n",
       "      <td>1990-06-22</td>\n",
       "      <td>2024-02-01 00:00:00</td>\n",
       "      <td>Maestría</td>\n",
       "      <td>Soltero(a)</td>\n",
       "      <td>Fijo</td>\n",
       "    </tr>\n",
       "    <tr>\n",
       "      <th>2</th>\n",
       "      <td>3</td>\n",
       "      <td>David</td>\n",
       "      <td>Gómez</td>\n",
       "      <td>M</td>\n",
       "      <td>1985-09-30</td>\n",
       "      <td>2024-03-05 00:00:00</td>\n",
       "      <td>Técnico</td>\n",
       "      <td>Divorciado(a)</td>\n",
       "      <td>Fijo</td>\n",
       "    </tr>\n",
       "    <tr>\n",
       "      <th>3</th>\n",
       "      <td>4</td>\n",
       "      <td>Ana</td>\n",
       "      <td>Martínez</td>\n",
       "      <td>F</td>\n",
       "      <td>1992-07-10</td>\n",
       "      <td>2024-04-20 00:00:00</td>\n",
       "      <td>Universitario</td>\n",
       "      <td>Casado(a)</td>\n",
       "      <td>Fijo</td>\n",
       "    </tr>\n",
       "    <tr>\n",
       "      <th>4</th>\n",
       "      <td>5</td>\n",
       "      <td>José</td>\n",
       "      <td>Rodríguez</td>\n",
       "      <td>M</td>\n",
       "      <td>1981-11-15</td>\n",
       "      <td>2024-05-01 00:00:00</td>\n",
       "      <td>Secundaria</td>\n",
       "      <td>Casado(a)</td>\n",
       "      <td>Fijo</td>\n",
       "    </tr>\n",
       "    <tr>\n",
       "      <th>...</th>\n",
       "      <td>...</td>\n",
       "      <td>...</td>\n",
       "      <td>...</td>\n",
       "      <td>...</td>\n",
       "      <td>...</td>\n",
       "      <td>...</td>\n",
       "      <td>...</td>\n",
       "      <td>...</td>\n",
       "      <td>...</td>\n",
       "    </tr>\n",
       "    <tr>\n",
       "      <th>495</th>\n",
       "      <td>496</td>\n",
       "      <td>Camila</td>\n",
       "      <td>Martinez</td>\n",
       "      <td>F</td>\n",
       "      <td>1993-01-09</td>\n",
       "      <td>2025-07-10 17:31:54</td>\n",
       "      <td>Universitario</td>\n",
       "      <td>Soltero(a)</td>\n",
       "      <td>Indefinido</td>\n",
       "    </tr>\n",
       "    <tr>\n",
       "      <th>496</th>\n",
       "      <td>497</td>\n",
       "      <td>Fernando</td>\n",
       "      <td>Garcia</td>\n",
       "      <td>M</td>\n",
       "      <td>1986-05-27</td>\n",
       "      <td>2025-07-10 17:31:54</td>\n",
       "      <td>Tecnologo</td>\n",
       "      <td>Casado(a)</td>\n",
       "      <td>Temporal</td>\n",
       "    </tr>\n",
       "    <tr>\n",
       "      <th>497</th>\n",
       "      <td>498</td>\n",
       "      <td>Natalia</td>\n",
       "      <td>Pineda</td>\n",
       "      <td>F</td>\n",
       "      <td>1991-10-20</td>\n",
       "      <td>2025-07-10 17:31:54</td>\n",
       "      <td>Bachiller</td>\n",
       "      <td>Soltero(a)</td>\n",
       "      <td>Indefinido</td>\n",
       "    </tr>\n",
       "    <tr>\n",
       "      <th>498</th>\n",
       "      <td>499</td>\n",
       "      <td>Julio</td>\n",
       "      <td>Moreno</td>\n",
       "      <td>M</td>\n",
       "      <td>1989-02-03</td>\n",
       "      <td>2025-07-10 17:31:54</td>\n",
       "      <td>Universitario</td>\n",
       "      <td>Casado(a)</td>\n",
       "      <td>Indefinido</td>\n",
       "    </tr>\n",
       "    <tr>\n",
       "      <th>499</th>\n",
       "      <td>500</td>\n",
       "      <td>Melissa</td>\n",
       "      <td>Salinas</td>\n",
       "      <td>F</td>\n",
       "      <td>1994-08-26</td>\n",
       "      <td>2025-07-10 17:31:54</td>\n",
       "      <td>Tecnologo</td>\n",
       "      <td>Soltero(a)</td>\n",
       "      <td>Temporal</td>\n",
       "    </tr>\n",
       "  </tbody>\n",
       "</table>\n",
       "<p>500 rows × 9 columns</p>\n",
       "</div>"
      ],
      "text/plain": [
       "     ID_EMPLEADO    NOMBRE   APELLIDO GENERO FECHA_NACIMIENTO  \\\n",
       "0              1    Carlos      López      M       1988-04-12   \n",
       "1              2     Lucía      Pérez      F       1990-06-22   \n",
       "2              3     David      Gómez      M       1985-09-30   \n",
       "3              4       Ana   Martínez      F       1992-07-10   \n",
       "4              5      José  Rodríguez      M       1981-11-15   \n",
       "..           ...       ...        ...    ...              ...   \n",
       "495          496    Camila   Martinez      F       1993-01-09   \n",
       "496          497  Fernando     Garcia      M       1986-05-27   \n",
       "497          498   Natalia     Pineda      F       1991-10-20   \n",
       "498          499     Julio     Moreno      M       1989-02-03   \n",
       "499          500   Melissa    Salinas      F       1994-08-26   \n",
       "\n",
       "     FECHA_CONTRATACION NIVEL_EDUCATIVO   ESTADO_CIVIL TIPO_CONTRATO  \n",
       "0   2024-01-15 00:00:00   Universitario      Casado(a)          Fijo  \n",
       "1   2024-02-01 00:00:00        Maestría     Soltero(a)          Fijo  \n",
       "2   2024-03-05 00:00:00         Técnico  Divorciado(a)          Fijo  \n",
       "3   2024-04-20 00:00:00   Universitario      Casado(a)          Fijo  \n",
       "4   2024-05-01 00:00:00      Secundaria      Casado(a)          Fijo  \n",
       "..                  ...             ...            ...           ...  \n",
       "495 2025-07-10 17:31:54   Universitario     Soltero(a)    Indefinido  \n",
       "496 2025-07-10 17:31:54       Tecnologo      Casado(a)      Temporal  \n",
       "497 2025-07-10 17:31:54       Bachiller     Soltero(a)    Indefinido  \n",
       "498 2025-07-10 17:31:54   Universitario      Casado(a)    Indefinido  \n",
       "499 2025-07-10 17:31:54       Tecnologo     Soltero(a)      Temporal  \n",
       "\n",
       "[500 rows x 9 columns]"
      ]
     },
     "execution_count": 7,
     "metadata": {},
     "output_type": "execute_result"
    }
   ],
   "source": [
    "mapa_estado = {\n",
    "    'Casado': 'Casado(a)',\n",
    "    'Casada': 'Casado(a)',\n",
    "    'Soltero': 'Soltero(a)',\n",
    "    'Soltera': 'Soltero(a)',\n",
    "    'Divorciado': 'Divorciado(a)',\n",
    "    'Divorciada': 'Divorciado(a)',\n",
    "    'Viudo': 'Viudo(a)',\n",
    "    'Viuda': 'Viudo(a)'\n",
    "}\n",
    "df[\"ESTADO_CIVIL\"] = df[\"ESTADO_CIVIL\"].replace(mapa_estado)\n",
    "df\n",
    "#Ahora hay 4 registros unicos en la columna estado civil"
   ]
  },
  {
   "cell_type": "code",
   "execution_count": 8,
   "metadata": {},
   "outputs": [
    {
     "data": {
      "text/plain": [
       "array(['Universitario', 'Maestría', 'Técnico', 'Secundaria', 'Doctorado',\n",
       "       'Tecnologo', 'Bachiller'], dtype=object)"
      ]
     },
     "execution_count": 8,
     "metadata": {},
     "output_type": "execute_result"
    }
   ],
   "source": [
    "df[\"NIVEL_EDUCATIVO\"].unique()"
   ]
  },
  {
   "cell_type": "code",
   "execution_count": 9,
   "metadata": {},
   "outputs": [
    {
     "data": {
      "text/html": [
       "<div>\n",
       "<style scoped>\n",
       "    .dataframe tbody tr th:only-of-type {\n",
       "        vertical-align: middle;\n",
       "    }\n",
       "\n",
       "    .dataframe tbody tr th {\n",
       "        vertical-align: top;\n",
       "    }\n",
       "\n",
       "    .dataframe thead th {\n",
       "        text-align: right;\n",
       "    }\n",
       "</style>\n",
       "<table border=\"1\" class=\"dataframe\">\n",
       "  <thead>\n",
       "    <tr style=\"text-align: right;\">\n",
       "      <th></th>\n",
       "      <th>ID_EMPLEADO</th>\n",
       "      <th>NOMBRE</th>\n",
       "      <th>APELLIDO</th>\n",
       "      <th>GENERO</th>\n",
       "      <th>FECHA_NACIMIENTO</th>\n",
       "      <th>FECHA_CONTRATACION</th>\n",
       "      <th>NIVEL_EDUCATIVO</th>\n",
       "      <th>ESTADO_CIVIL</th>\n",
       "      <th>TIPO_CONTRATO</th>\n",
       "    </tr>\n",
       "  </thead>\n",
       "  <tbody>\n",
       "    <tr>\n",
       "      <th>0</th>\n",
       "      <td>1</td>\n",
       "      <td>Carlos</td>\n",
       "      <td>López</td>\n",
       "      <td>M</td>\n",
       "      <td>1988-04-12</td>\n",
       "      <td>2024-01-15 00:00:00</td>\n",
       "      <td>Universitario</td>\n",
       "      <td>Casado(a)</td>\n",
       "      <td>Fijo</td>\n",
       "    </tr>\n",
       "    <tr>\n",
       "      <th>1</th>\n",
       "      <td>2</td>\n",
       "      <td>Lucía</td>\n",
       "      <td>Pérez</td>\n",
       "      <td>F</td>\n",
       "      <td>1990-06-22</td>\n",
       "      <td>2024-02-01 00:00:00</td>\n",
       "      <td>Maestría</td>\n",
       "      <td>Soltero(a)</td>\n",
       "      <td>Fijo</td>\n",
       "    </tr>\n",
       "    <tr>\n",
       "      <th>2</th>\n",
       "      <td>3</td>\n",
       "      <td>David</td>\n",
       "      <td>Gómez</td>\n",
       "      <td>M</td>\n",
       "      <td>1985-09-30</td>\n",
       "      <td>2024-03-05 00:00:00</td>\n",
       "      <td>Técnico</td>\n",
       "      <td>Divorciado(a)</td>\n",
       "      <td>Fijo</td>\n",
       "    </tr>\n",
       "    <tr>\n",
       "      <th>3</th>\n",
       "      <td>4</td>\n",
       "      <td>Ana</td>\n",
       "      <td>Martínez</td>\n",
       "      <td>F</td>\n",
       "      <td>1992-07-10</td>\n",
       "      <td>2024-04-20 00:00:00</td>\n",
       "      <td>Universitario</td>\n",
       "      <td>Casado(a)</td>\n",
       "      <td>Fijo</td>\n",
       "    </tr>\n",
       "    <tr>\n",
       "      <th>4</th>\n",
       "      <td>5</td>\n",
       "      <td>José</td>\n",
       "      <td>Rodríguez</td>\n",
       "      <td>M</td>\n",
       "      <td>1981-11-15</td>\n",
       "      <td>2024-05-01 00:00:00</td>\n",
       "      <td>Bachiller</td>\n",
       "      <td>Casado(a)</td>\n",
       "      <td>Fijo</td>\n",
       "    </tr>\n",
       "    <tr>\n",
       "      <th>...</th>\n",
       "      <td>...</td>\n",
       "      <td>...</td>\n",
       "      <td>...</td>\n",
       "      <td>...</td>\n",
       "      <td>...</td>\n",
       "      <td>...</td>\n",
       "      <td>...</td>\n",
       "      <td>...</td>\n",
       "      <td>...</td>\n",
       "    </tr>\n",
       "    <tr>\n",
       "      <th>495</th>\n",
       "      <td>496</td>\n",
       "      <td>Camila</td>\n",
       "      <td>Martinez</td>\n",
       "      <td>F</td>\n",
       "      <td>1993-01-09</td>\n",
       "      <td>2025-07-10 17:31:54</td>\n",
       "      <td>Universitario</td>\n",
       "      <td>Soltero(a)</td>\n",
       "      <td>Indefinido</td>\n",
       "    </tr>\n",
       "    <tr>\n",
       "      <th>496</th>\n",
       "      <td>497</td>\n",
       "      <td>Fernando</td>\n",
       "      <td>Garcia</td>\n",
       "      <td>M</td>\n",
       "      <td>1986-05-27</td>\n",
       "      <td>2025-07-10 17:31:54</td>\n",
       "      <td>Tecnologo</td>\n",
       "      <td>Casado(a)</td>\n",
       "      <td>Temporal</td>\n",
       "    </tr>\n",
       "    <tr>\n",
       "      <th>497</th>\n",
       "      <td>498</td>\n",
       "      <td>Natalia</td>\n",
       "      <td>Pineda</td>\n",
       "      <td>F</td>\n",
       "      <td>1991-10-20</td>\n",
       "      <td>2025-07-10 17:31:54</td>\n",
       "      <td>Bachiller</td>\n",
       "      <td>Soltero(a)</td>\n",
       "      <td>Indefinido</td>\n",
       "    </tr>\n",
       "    <tr>\n",
       "      <th>498</th>\n",
       "      <td>499</td>\n",
       "      <td>Julio</td>\n",
       "      <td>Moreno</td>\n",
       "      <td>M</td>\n",
       "      <td>1989-02-03</td>\n",
       "      <td>2025-07-10 17:31:54</td>\n",
       "      <td>Universitario</td>\n",
       "      <td>Casado(a)</td>\n",
       "      <td>Indefinido</td>\n",
       "    </tr>\n",
       "    <tr>\n",
       "      <th>499</th>\n",
       "      <td>500</td>\n",
       "      <td>Melissa</td>\n",
       "      <td>Salinas</td>\n",
       "      <td>F</td>\n",
       "      <td>1994-08-26</td>\n",
       "      <td>2025-07-10 17:31:54</td>\n",
       "      <td>Tecnologo</td>\n",
       "      <td>Soltero(a)</td>\n",
       "      <td>Temporal</td>\n",
       "    </tr>\n",
       "  </tbody>\n",
       "</table>\n",
       "<p>500 rows × 9 columns</p>\n",
       "</div>"
      ],
      "text/plain": [
       "     ID_EMPLEADO    NOMBRE   APELLIDO GENERO FECHA_NACIMIENTO  \\\n",
       "0              1    Carlos      López      M       1988-04-12   \n",
       "1              2     Lucía      Pérez      F       1990-06-22   \n",
       "2              3     David      Gómez      M       1985-09-30   \n",
       "3              4       Ana   Martínez      F       1992-07-10   \n",
       "4              5      José  Rodríguez      M       1981-11-15   \n",
       "..           ...       ...        ...    ...              ...   \n",
       "495          496    Camila   Martinez      F       1993-01-09   \n",
       "496          497  Fernando     Garcia      M       1986-05-27   \n",
       "497          498   Natalia     Pineda      F       1991-10-20   \n",
       "498          499     Julio     Moreno      M       1989-02-03   \n",
       "499          500   Melissa    Salinas      F       1994-08-26   \n",
       "\n",
       "     FECHA_CONTRATACION NIVEL_EDUCATIVO   ESTADO_CIVIL TIPO_CONTRATO  \n",
       "0   2024-01-15 00:00:00   Universitario      Casado(a)          Fijo  \n",
       "1   2024-02-01 00:00:00        Maestría     Soltero(a)          Fijo  \n",
       "2   2024-03-05 00:00:00         Técnico  Divorciado(a)          Fijo  \n",
       "3   2024-04-20 00:00:00   Universitario      Casado(a)          Fijo  \n",
       "4   2024-05-01 00:00:00       Bachiller      Casado(a)          Fijo  \n",
       "..                  ...             ...            ...           ...  \n",
       "495 2025-07-10 17:31:54   Universitario     Soltero(a)    Indefinido  \n",
       "496 2025-07-10 17:31:54       Tecnologo      Casado(a)      Temporal  \n",
       "497 2025-07-10 17:31:54       Bachiller     Soltero(a)    Indefinido  \n",
       "498 2025-07-10 17:31:54   Universitario      Casado(a)    Indefinido  \n",
       "499 2025-07-10 17:31:54       Tecnologo     Soltero(a)      Temporal  \n",
       "\n",
       "[500 rows x 9 columns]"
      ]
     },
     "execution_count": 9,
     "metadata": {},
     "output_type": "execute_result"
    }
   ],
   "source": [
    "mapa_educativo = {\n",
    "    \"Bachiller\":\"Bachiller\",\n",
    "    \"Secundaria\":\"Bachiller\" \n",
    "}\n",
    "df[\"NIVEL_EDUCATIVO\"] = df[\"NIVEL_EDUCATIVO\"].replace(mapa_educativo)\n",
    "df"
   ]
  },
  {
   "cell_type": "code",
   "execution_count": 10,
   "metadata": {},
   "outputs": [
    {
     "data": {
      "text/plain": [
       "array(['Universitario', 'Maestría', 'Técnico', 'Bachiller', 'Doctorado',\n",
       "       'Tecnologo'], dtype=object)"
      ]
     },
     "execution_count": 10,
     "metadata": {},
     "output_type": "execute_result"
    }
   ],
   "source": [
    "df[\"NIVEL_EDUCATIVO\"].unique()"
   ]
  },
  {
   "cell_type": "code",
   "execution_count": 11,
   "metadata": {},
   "outputs": [],
   "source": [
    "df.to_csv(\"OraEmpleados.csv\", index=False)"
   ]
  },
  {
   "cell_type": "code",
   "execution_count": 12,
   "metadata": {},
   "outputs": [
    {
     "name": "stderr",
     "output_type": "stream",
     "text": [
      "C:\\Users\\USER\\AppData\\Local\\Temp\\ipykernel_13408\\3281180088.py:4: UserWarning: pandas only supports SQLAlchemy connectable (engine/connection) or database string URI or sqlite3 DBAPI2 connection. Other DBAPI2 objects are not tested. Please consider using SQLAlchemy.\n",
      "  df_2 = pd.read_sql(sql_2, con=connection)\n"
     ]
    },
    {
     "name": "stdout",
     "output_type": "stream",
     "text": [
      "   ID_EMPLEADO  ID_DEPARTAMENTO  SALARIO  HORAS_TRABAJADAS  BONIFICACION\n",
      "0            1                2     2500               160           200\n",
      "1            2                3     2600               165           150\n",
      "2            3                4     2700               170           180\n",
      "3            4                5     2800               150           210\n",
      "4            5                6     2900               155           170\n"
     ]
    }
   ],
   "source": [
    " #Conexion a segunda tabla HECHOS\n",
    "with ora.connect(user=USER, password=PASSWORD, dsn=DSN) as connection:    \n",
    "    sql_2 = \"SELECT * FROM HECHOS_EMPLEADOS\"\n",
    "    df_2 = pd.read_sql(sql_2, con=connection)\n",
    "    print(df_2.head())\n",
    "#Costo total es redundante como columna calculada. Eso se puede hacer en Power BI sin necesidad de mostrar"
   ]
  },
  {
   "cell_type": "code",
   "execution_count": 15,
   "metadata": {},
   "outputs": [
    {
     "ename": "DatabaseError",
     "evalue": "ORA-00904: \"COSTO_TOTAL\": invalid identifier\nHelp: https://docs.oracle.com/error-help/db/ora-00904/",
     "output_type": "error",
     "traceback": [
      "\u001b[1;31m---------------------------------------------------------------------------\u001b[0m",
      "\u001b[1;31mDatabaseError\u001b[0m                             Traceback (most recent call last)",
      "Cell \u001b[1;32mIn[15], line 4\u001b[0m\n\u001b[0;32m      1\u001b[0m \u001b[38;5;28;01mwith\u001b[39;00m ora\u001b[38;5;241m.\u001b[39mconnect(user\u001b[38;5;241m=\u001b[39mUSER, password\u001b[38;5;241m=\u001b[39mPASSWORD, dsn\u001b[38;5;241m=\u001b[39mDSN) \u001b[38;5;28;01mas\u001b[39;00m connection:  \n\u001b[0;32m      2\u001b[0m   \u001b[38;5;66;03m#Creacion de cursor y eliminación de columna COSTO_TOTAL de la base de datos\u001b[39;00m\n\u001b[0;32m      3\u001b[0m   cursor \u001b[38;5;241m=\u001b[39mconnection\u001b[38;5;241m.\u001b[39mcursor()\n\u001b[1;32m----> 4\u001b[0m   \u001b[43mcursor\u001b[49m\u001b[38;5;241;43m.\u001b[39;49m\u001b[43mexecute\u001b[49m\u001b[43m(\u001b[49m\u001b[38;5;124;43m\"\u001b[39;49m\u001b[38;5;124;43mALTER TABLE HECHOS_EMPLEADOS DROP COLUMN COSTO_TOTAL\u001b[39;49m\u001b[38;5;124;43m\"\u001b[39;49m\u001b[43m)\u001b[49m\n\u001b[0;32m      5\u001b[0m   connection\u001b[38;5;241m.\u001b[39mcommit()\n\u001b[0;32m      6\u001b[0m   df_2 \u001b[38;5;241m=\u001b[39m pd\u001b[38;5;241m.\u001b[39mread_sql(\u001b[38;5;124m\"\u001b[39m\u001b[38;5;124mSELECT * FROM HECHOS_EMPLEADOS\u001b[39m\u001b[38;5;124m\"\u001b[39m, con\u001b[38;5;241m=\u001b[39mconnection)\n",
      "File \u001b[1;32mc:\\Users\\USER\\AppData\\Local\\Programs\\Python\\Python310\\lib\\site-packages\\oracledb\\cursor.py:708\u001b[0m, in \u001b[0;36mCursor.execute\u001b[1;34m(self, statement, parameters, **keyword_parameters)\u001b[0m\n\u001b[0;32m    706\u001b[0m \u001b[38;5;28mself\u001b[39m\u001b[38;5;241m.\u001b[39m_prepare_for_execute(statement, parameters, keyword_parameters)\n\u001b[0;32m    707\u001b[0m impl \u001b[38;5;241m=\u001b[39m \u001b[38;5;28mself\u001b[39m\u001b[38;5;241m.\u001b[39m_impl\n\u001b[1;32m--> 708\u001b[0m \u001b[43mimpl\u001b[49m\u001b[38;5;241;43m.\u001b[39;49m\u001b[43mexecute\u001b[49m\u001b[43m(\u001b[49m\u001b[38;5;28;43mself\u001b[39;49m\u001b[43m)\u001b[49m\n\u001b[0;32m    709\u001b[0m \u001b[38;5;28;01mif\u001b[39;00m impl\u001b[38;5;241m.\u001b[39mfetch_vars \u001b[38;5;129;01mis\u001b[39;00m \u001b[38;5;129;01mnot\u001b[39;00m \u001b[38;5;28;01mNone\u001b[39;00m:\n\u001b[0;32m    710\u001b[0m     \u001b[38;5;28;01mreturn\u001b[39;00m \u001b[38;5;28mself\u001b[39m\n",
      "File \u001b[1;32msrc/oracledb/impl/thin/cursor.pyx:277\u001b[0m, in \u001b[0;36moracledb.thin_impl.ThinCursorImpl.execute\u001b[1;34m()\u001b[0m\n",
      "File \u001b[1;32msrc/oracledb/impl/thin/protocol.pyx:482\u001b[0m, in \u001b[0;36moracledb.thin_impl.Protocol._process_single_message\u001b[1;34m()\u001b[0m\n",
      "File \u001b[1;32msrc/oracledb/impl/thin/protocol.pyx:483\u001b[0m, in \u001b[0;36moracledb.thin_impl.Protocol._process_single_message\u001b[1;34m()\u001b[0m\n",
      "File \u001b[1;32msrc/oracledb/impl/thin/protocol.pyx:475\u001b[0m, in \u001b[0;36moracledb.thin_impl.Protocol._process_message\u001b[1;34m()\u001b[0m\n",
      "File \u001b[1;32msrc/oracledb/impl/thin/messages/base.pyx:102\u001b[0m, in \u001b[0;36moracledb.thin_impl.Message._check_and_raise_exception\u001b[1;34m()\u001b[0m\n",
      "\u001b[1;31mDatabaseError\u001b[0m: ORA-00904: \"COSTO_TOTAL\": invalid identifier\nHelp: https://docs.oracle.com/error-help/db/ora-00904/"
     ]
    }
   ],
   "source": [
    "with ora.connect(user=USER, password=PASSWORD, dsn=DSN) as connection:  \n",
    "  #Creacion de cursor y eliminación de columna COSTO_TOTAL de la base de datos\n",
    "  cursor =connection.cursor()\n",
    "  cursor.execute(\"ALTER TABLE HECHOS_EMPLEADOS DROP COLUMN COSTO_TOTAL\")\n",
    "  connection.commit()\n",
    "  df_2 = pd.read_sql(\"SELECT * FROM HECHOS_EMPLEADOS\", con=connection)\n",
    "    # Cerrar el cursor\n",
    "  cursor.close()\n",
    "  print(df_2.head())"
   ]
  },
  {
   "cell_type": "code",
   "execution_count": 16,
   "metadata": {},
   "outputs": [
    {
     "data": {
      "text/plain": [
       "ID_EMPLEADO         0\n",
       "ID_DEPARTAMENTO     0\n",
       "SALARIO             0\n",
       "HORAS_TRABAJADAS    0\n",
       "BONIFICACION        0\n",
       "dtype: int64"
      ]
     },
     "execution_count": 16,
     "metadata": {},
     "output_type": "execute_result"
    }
   ],
   "source": [
    "#No hay valores nulos\n",
    "df_2.isnull().sum()"
   ]
  },
  {
   "cell_type": "code",
   "execution_count": 17,
   "metadata": {},
   "outputs": [
    {
     "data": {
      "text/plain": [
       "ID_EMPLEADO         int64\n",
       "ID_DEPARTAMENTO     int64\n",
       "SALARIO             int64\n",
       "HORAS_TRABAJADAS    int64\n",
       "BONIFICACION        int64\n",
       "dtype: object"
      ]
     },
     "execution_count": 17,
     "metadata": {},
     "output_type": "execute_result"
    }
   ],
   "source": [
    "df_2.dtypes"
   ]
  },
  {
   "cell_type": "code",
   "execution_count": 18,
   "metadata": {},
   "outputs": [
    {
     "data": {
      "text/plain": [
       "np.int64(0)"
      ]
     },
     "execution_count": 18,
     "metadata": {},
     "output_type": "execute_result"
    }
   ],
   "source": [
    "df_2[\"ID_EMPLEADO\"].duplicated().sum()\n",
    "#No hay valores duplicados en ID_EMPLEADO.Para ID_DEPARTAMENTO \n",
    "#no se calcula si hay valores porque es obviamente claro que va a existir duplicados.EMPLEADO - DEPARTAMENTO\n",
    "#es una relacion 1-n donde un departamento tiene varios empleados pero un empleado solamente puede estar en un depar-\n",
    "#tamento.\n"
   ]
  },
  {
   "cell_type": "code",
   "execution_count": 19,
   "metadata": {},
   "outputs": [],
   "source": [
    "df_2.to_csv(\"OraHechos.csv\", index=False)"
   ]
  },
  {
   "cell_type": "code",
   "execution_count": 20,
   "metadata": {},
   "outputs": [
    {
     "name": "stderr",
     "output_type": "stream",
     "text": [
      "C:\\Users\\USER\\AppData\\Local\\Temp\\ipykernel_13408\\95679869.py:3: UserWarning: pandas only supports SQLAlchemy connectable (engine/connection) or database string URI or sqlite3 DBAPI2 connection. Other DBAPI2 objects are not tested. Please consider using SQLAlchemy.\n",
      "  df_3 = pd.read_sql(sql_3, con=connection)\n"
     ]
    },
    {
     "name": "stdout",
     "output_type": "stream",
     "text": [
      "    ID_DEPARTAMENTO         NOMBRE_DEPARTAMENTO     UBICACION  \\\n",
      "0                 1                    Finanzas        Bogotá   \n",
      "1                 2            Recursos Humanos        Bogotá   \n",
      "2                 3                  Tecnología      Medellín   \n",
      "3                 4                      Ventas          Cali   \n",
      "4                 5                   Logística  Barranquilla   \n",
      "5                 6                     Compras        Bogotá   \n",
      "6                 7         Servicio al Cliente      Medellín   \n",
      "7                 8                   Marketing          Cali   \n",
      "8                 9                     Calidad        Bogotá   \n",
      "9                10                       Legal        Bogotá   \n",
      "10               11  Investigación y Desarrollo      Medellín   \n",
      "11               12                  Producción          Cali   \n",
      "12               13           Auditoría Interna        Bogotá   \n",
      "13               14      Planeación Estratégica        Bogotá   \n",
      "14               15          Atención Postventa  Barranquilla   \n",
      "\n",
      "   TIPO_DEPARTAMENTO  \n",
      "0     Administrativo  \n",
      "1     Administrativo  \n",
      "2          Operativo  \n",
      "3          Comercial  \n",
      "4          Operativo  \n",
      "5     Administrativo  \n",
      "6          Comercial  \n",
      "7          Comercial  \n",
      "8          Operativo  \n",
      "9     Administrativo  \n",
      "10         Operativo  \n",
      "11         Operativo  \n",
      "12    Administrativo  \n",
      "13    Administrativo  \n",
      "14         Comercial  \n"
     ]
    }
   ],
   "source": [
    "with ora.connect(user=USER, password=PASSWORD, dsn=DSN) as connection:   \n",
    "    sql_3 = \"SELECT * FROM DIM_DEPARTAMENTO\"\n",
    "    df_3 = pd.read_sql(sql_3, con=connection)\n",
    "    print(df_3.head(20))"
   ]
  },
  {
   "cell_type": "code",
   "execution_count": 21,
   "metadata": {},
   "outputs": [],
   "source": [
    "df_3.to_csv('OraDepartamento.csv',index= False)"
   ]
  }
 ],
 "metadata": {
  "kernelspec": {
   "display_name": "Python 3",
   "language": "python",
   "name": "python3"
  },
  "language_info": {
   "codemirror_mode": {
    "name": "ipython",
    "version": 3
   },
   "file_extension": ".py",
   "mimetype": "text/x-python",
   "name": "python",
   "nbconvert_exporter": "python",
   "pygments_lexer": "ipython3",
   "version": "3.10.6"
  }
 },
 "nbformat": 4,
 "nbformat_minor": 2
}
